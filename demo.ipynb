{
 "cells": [
  {
   "cell_type": "code",
   "execution_count": 1,
   "metadata": {},
   "outputs": [],
   "source": [
    "import  stringtonumbers as s2n"
   ]
  },
  {
   "cell_type": "markdown",
   "metadata": {},
   "source": [
    "## 1. Get the numerical string tokens in a string."
   ]
  },
  {
   "cell_type": "code",
   "execution_count": 2,
   "metadata": {},
   "outputs": [],
   "source": [
    "string1 = \"U.S. goods and services trade with China totaled an estimated $710.4 billion in 2017. \"\n",
    "string2 = \"David spent .25 billion dollars buying a building and 600,000,000 getting himself a new car.\""
   ]
  },
  {
   "cell_type": "code",
   "execution_count": 3,
   "metadata": {},
   "outputs": [
    {
     "name": "stdout",
     "output_type": "stream",
     "text": [
      "Numerical string tokens in string1: ['710.4', '2017']\n",
      "Numerical string tokens in string2: ['.25', '600,000,000']\n"
     ]
    }
   ],
   "source": [
    "print(\"Numerical string tokens in string1:\", s2n.get_numerical_string_tokens(string1))\n",
    "print(\"Numerical string tokens in string2:\", s2n.get_numerical_string_tokens(string2))"
   ]
  },
  {
   "cell_type": "markdown",
   "metadata": {},
   "source": [
    "## 2. Get numbers from a string"
   ]
  },
  {
   "cell_type": "code",
   "execution_count": 4,
   "metadata": {},
   "outputs": [],
   "source": [
    "string1 = \"U.S. goods and services trade with China totaled an estimated $710.4 billion in 2017. \"\n",
    "string2 = \"David spent .25 billion dollars buying a building and 600,000,000 getting himself a new car.\""
   ]
  },
  {
   "cell_type": "code",
   "execution_count": 5,
   "metadata": {},
   "outputs": [
    {
     "name": "stdout",
     "output_type": "stream",
     "text": [
      "Numbers in string1: [710.4, 2017]\n",
      "Numbers in string2: [0.25, 600000000]\n"
     ]
    }
   ],
   "source": [
    "print(\"Numbers in string1:\", s2n.get_nums(string1))\n",
    "print(\"Numbers in string2:\", s2n.get_nums(string2))"
   ]
  },
  {
   "cell_type": "markdown",
   "metadata": {},
   "source": [
    "## 3. Convert numerical string to number"
   ]
  },
  {
   "cell_type": "code",
   "execution_count": 6,
   "metadata": {},
   "outputs": [],
   "source": [
    "s1 = \"255\"\n",
    "s2 = \"-255\"\n",
    "s3 = \"255.0\"\n",
    "s4 = \"-255.0\"\n",
    "s5 = \"-255,123,000\"\n",
    "s6 = \"-255,123,000.0\"\n",
    "s7 = \"255/547\"\n",
    "s8 = 255\n",
    "s9 = -255.0"
   ]
  },
  {
   "cell_type": "code",
   "execution_count": 7,
   "metadata": {},
   "outputs": [
    {
     "name": "stdout",
     "output_type": "stream",
     "text": [
      "n1: 255 <class 'int'>\n",
      "n2: -255 <class 'int'>\n",
      "n3: 255.0 <class 'float'>\n",
      "n4: -255.0 <class 'float'>\n",
      "n5: -255123000 <class 'int'>\n",
      "n6: -255123000.0 <class 'float'>\n",
      "n7: 255/547 <class 'fractions.Fraction'>\n",
      "n8: 255 <class 'int'>\n",
      "n9: -255.0 <class 'float'>\n"
     ]
    }
   ],
   "source": [
    "n1 = s2n.to_num(s1)\n",
    "n2 = s2n.to_num(s2)\n",
    "n3 = s2n.to_num(s3)\n",
    "n4 = s2n.to_num(s4)\n",
    "n5 = s2n.to_num(s5)\n",
    "n6 = s2n.to_num(s6)\n",
    "n7 = s2n.to_num(s7)\n",
    "n8 = s2n.to_num(s8)\n",
    "n9 = s2n.to_num(s9)\n",
    "\n",
    "print(\"n1:\", n1, type(n1))\n",
    "print(\"n2:\", n2, type(n2))\n",
    "print(\"n3:\", n3, type(n3))\n",
    "print(\"n4:\", n4, type(n4))\n",
    "print(\"n5:\", n5, type(n5))\n",
    "print(\"n6:\", n6, type(n6))\n",
    "print(\"n7:\", n7, type(n7))\n",
    "print(\"n8:\", n8, type(n8))\n",
    "print(\"n9:\", n9, type(n9))\n",
    "\n",
    "# Incorrect examples\n",
    "# s2n.to_num(\"abc\") # It will throw a ValueError: Invalid numerical string!\n",
    "# s2n.to_num(list()) # It will throw a ValueError: Invalid input type!"
   ]
  }
 ],
 "metadata": {
  "kernelspec": {
   "display_name": "Python 3",
   "language": "python",
   "name": "python3"
  },
  "language_info": {
   "codemirror_mode": {
    "name": "ipython",
    "version": 3
   },
   "file_extension": ".py",
   "mimetype": "text/x-python",
   "name": "python",
   "nbconvert_exporter": "python",
   "pygments_lexer": "ipython3",
   "version": "3.7.1"
  }
 },
 "nbformat": 4,
 "nbformat_minor": 2
}

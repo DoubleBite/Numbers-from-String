{
 "cells": [
  {
   "cell_type": "code",
   "execution_count": 1,
   "metadata": {},
   "outputs": [],
   "source": [
    "import  stringtonumbers as s2n"
   ]
  },
  {
   "cell_type": "markdown",
   "metadata": {},
   "source": [
    "## 1. Convert numeric string to number"
   ]
  },
  {
   "cell_type": "code",
   "execution_count": 2,
   "metadata": {},
   "outputs": [],
   "source": [
    "s1 = \"255\"\n",
    "s2 = \"-255\"\n",
    "s3 = \"255.0\"\n",
    "s4 = \"-255.0\"\n",
    "s5 = \"-255,123,000\"\n",
    "s6 = \"-255,123,000.0\"\n",
    "s7 = \"255/547\"\n",
    "s8 = 255\n",
    "s9 = -255.0"
   ]
  },
  {
   "cell_type": "code",
   "execution_count": 7,
   "metadata": {},
   "outputs": [
    {
     "name": "stdout",
     "output_type": "stream",
     "text": [
      "n1: 255 <class 'int'>\n",
      "n2: -255 <class 'int'>\n",
      "n3: 255.0 <class 'float'>\n",
      "n4: -255.0 <class 'float'>\n",
      "n5: -255123000 <class 'int'>\n",
      "n6: -255123000.0 <class 'float'>\n",
      "n7: 255/547 <class 'fractions.Fraction'>\n",
      "n8: 255 <class 'int'>\n",
      "n9: -255.0 <class 'float'>\n"
     ]
    }
   ],
   "source": [
    "n1 = s2n.string_to_num(s1)\n",
    "n2 = s2n.string_to_num(s2)\n",
    "n3 = s2n.string_to_num(s3)\n",
    "n4 = s2n.string_to_num(s4)\n",
    "n5 = s2n.string_to_num(s5)\n",
    "n6 = s2n.string_to_num(s6)\n",
    "n7 = s2n.string_to_num(s7)\n",
    "n8 = s2n.string_to_num(s8)\n",
    "n9 = s2n.string_to_num(s9)\n",
    "\n",
    "print(\"n1:\", n1, type(n1))\n",
    "print(\"n2:\", n2, type(n2))\n",
    "print(\"n3:\", n3, type(n3))\n",
    "print(\"n4:\", n4, type(n4))\n",
    "print(\"n5:\", n5, type(n5))\n",
    "print(\"n6:\", n6, type(n6))\n",
    "print(\"n7:\", n7, type(n7))\n",
    "print(\"n8:\", n8, type(n8))\n",
    "print(\"n9:\", n9, type(n9))\n",
    "\n",
    "# Incorrect examples\n",
    "# s2n.string_to_num(\"abc\") # It will throw a ValueError: Invalid numeric string!\n",
    "# s2n.string_to_num([]) # It will throw a ValueError: Invalid numeric input!"
   ]
  },
  {
   "cell_type": "markdown",
   "metadata": {},
   "source": [
    "## 2. Extract numbers from string"
   ]
  },
  {
   "cell_type": "code",
   "execution_count": 156,
   "metadata": {},
   "outputs": [
    {
     "data": {
      "text/plain": [
       "[225000000.0, -225000000.0, 25, 12, 0.12]"
      ]
     },
     "execution_count": 156,
     "metadata": {},
     "output_type": "execute_result"
    }
   ],
   "source": [
    "extract_nums_from_string(string1)"
   ]
  },
  {
   "cell_type": "code",
   "execution_count": 155,
   "metadata": {},
   "outputs": [],
   "source": [
    "string1 = \"If a number ,225,000,000.0ii is added to its r-225,000,000.0eciprocal the sum is 25/12. Find the nu00mber. .12.\"\n",
    "string2 = \"255,000,000abc\""
   ]
  },
  {
   "cell_type": "code",
   "execution_count": 24,
   "metadata": {},
   "outputs": [],
   "source": [
    "s1 = -255\n",
    "s2 = \"-255\"\n",
    "s3 = \"255,000\""
   ]
  },
  {
   "cell_type": "code",
   "execution_count": 35,
   "metadata": {},
   "outputs": [
    {
     "name": "stdout",
     "output_type": "stream",
     "text": [
      "255 <class 'int'>\n"
     ]
    }
   ],
   "source": [
    "print(string_to_num(255), type((string_to_num(255))))"
   ]
  }
 ],
 "metadata": {
  "kernelspec": {
   "display_name": "Python 3",
   "language": "python",
   "name": "python3"
  },
  "language_info": {
   "codemirror_mode": {
    "name": "ipython",
    "version": 3
   },
   "file_extension": ".py",
   "mimetype": "text/x-python",
   "name": "python",
   "nbconvert_exporter": "python",
   "pygments_lexer": "ipython3",
   "version": "3.7.1"
  }
 },
 "nbformat": 4,
 "nbformat_minor": 2
}

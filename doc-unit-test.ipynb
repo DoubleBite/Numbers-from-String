{
 "cells": [
  {
   "cell_type": "code",
   "execution_count": 1,
   "metadata": {},
   "outputs": [],
   "source": [
    "import doctest\n",
    "import unittest\n",
    "import re\n",
    "from fractions import Fraction"
   ]
  },
  {
   "cell_type": "markdown",
   "metadata": {},
   "source": [
    "## 1. Get the numerical string tokens in a string."
   ]
  },
  {
   "cell_type": "code",
   "execution_count": 2,
   "metadata": {},
   "outputs": [],
   "source": [
    "from  nums_from_string import  get_numeric_string_tokens"
   ]
  },
  {
   "cell_type": "code",
   "execution_count": 3,
   "metadata": {},
   "outputs": [
    {
     "name": "stdout",
     "output_type": "stream",
     "text": [
      "Finding tests in NoName\n",
      "Trying:\n",
      "    string1 = \"U.S. goods and services trade with China totaled an estimated $710.4 billion in 2017. \"\n",
      "Expecting nothing\n",
      "ok\n",
      "Trying:\n",
      "    get_numeric_string_tokens(string1)\n",
      "Expecting:\n",
      "    ['710.4', '2017']\n",
      "ok\n",
      "Trying:\n",
      "    string2 = \"David spent .25 billion dollars buying a building and 600,000,000.5 dollars getting himself a new car.\"\n",
      "Expecting nothing\n",
      "ok\n",
      "Trying:\n",
      "    get_numeric_string_tokens(string2)\n",
      "Expecting:\n",
      "    ['.25', '600,000,000.5']\n",
      "ok\n"
     ]
    }
   ],
   "source": [
    "doctest.run_docstring_examples(get_numeric_string_tokens, globals(), verbose=True)"
   ]
  },
  {
   "cell_type": "markdown",
   "metadata": {},
   "source": [
    "---\n",
    "---\n",
    "## 2. Convert numerical string to number"
   ]
  },
  {
   "cell_type": "code",
   "execution_count": 4,
   "metadata": {},
   "outputs": [],
   "source": [
    "from nums_from_string import to_num"
   ]
  },
  {
   "cell_type": "code",
   "execution_count": 5,
   "metadata": {},
   "outputs": [
    {
     "name": "stdout",
     "output_type": "stream",
     "text": [
      "Finding tests in NoName\n",
      "Trying:\n",
      "    s0 = \"255\"\n",
      "Expecting nothing\n",
      "ok\n",
      "Trying:\n",
      "    to_num(s0)\n",
      "Expecting:\n",
      "    255\n",
      "ok\n",
      "Trying:\n",
      "    s1 = \"-255,000.0\"\n",
      "Expecting nothing\n",
      "ok\n",
      "Trying:\n",
      "    to_num(s1)\n",
      "Expecting:\n",
      "    -255000.0\n",
      "ok\n",
      "Trying:\n",
      "    s2 = \"87/25\"\n",
      "Expecting nothing\n",
      "ok\n",
      "Trying:\n",
      "    to_num(s2)\n",
      "Expecting:\n",
      "    Fraction(87, 25)\n",
      "ok\n",
      "Trying:\n",
      "    s3 = \"a1b2\"\n",
      "Expecting nothing\n",
      "ok\n",
      "Trying:\n",
      "    to_num(s3)\n",
      "Expecting:\n",
      "    Traceback (most recent call last):\n",
      "        ...\n",
      "    ValueError: Invalid numerical string!\n",
      "ok\n"
     ]
    }
   ],
   "source": [
    "doctest.run_docstring_examples(to_num, globals(), verbose=True)"
   ]
  },
  {
   "cell_type": "markdown",
   "metadata": {},
   "source": [
    "---\n",
    "---\n",
    "## 3. Get numbers from string"
   ]
  },
  {
   "cell_type": "code",
   "execution_count": 6,
   "metadata": {},
   "outputs": [],
   "source": [
    "from nums_from_string import get_nums"
   ]
  },
  {
   "cell_type": "code",
   "execution_count": 7,
   "metadata": {},
   "outputs": [
    {
     "name": "stdout",
     "output_type": "stream",
     "text": [
      "Finding tests in NoName\n",
      "Trying:\n",
      "    string1 = \"U.S. goods and services trade with China totaled an estimated $710.4 billion in 2017. \"\n",
      "Expecting nothing\n",
      "ok\n",
      "Trying:\n",
      "    get_nums(string1)\n",
      "Expecting:\n",
      "    [710.4, 2017]\n",
      "ok\n",
      "Trying:\n",
      "    string2 = \"David spent .25 billion dollars buying a building and 600,000,000.5 dollars getting himself a new car.\"\n",
      "Expecting nothing\n",
      "ok\n",
      "Trying:\n",
      "    get_nums(string2)\n",
      "Expecting:\n",
      "    [0.25, 600000000.5]\n",
      "ok\n"
     ]
    }
   ],
   "source": [
    "doctest.run_docstring_examples(get_nums, globals(), verbose=True)"
   ]
  },
  {
   "cell_type": "markdown",
   "metadata": {},
   "source": [
    "---\n",
    "---\n",
    "## 4. Unittest"
   ]
  },
  {
   "cell_type": "code",
   "execution_count": 8,
   "metadata": {},
   "outputs": [],
   "source": [
    "class Tester(unittest.TestCase):\n",
    "\n",
    "    def test_to_num(self):\n",
    "        self.assertEqual(w2n.word_to_num(\"two million three thousand nine hundred and eighty four\"), 2003984)\n",
    "        self.assertEqual(w2n.word_to_num(\"nineteen\"), 19)\n",
    "\n",
    "    def test_negatives(self):\n",
    "        self.assertRaises(ValueError, w2n.word_to_num, '112-')\n",
    "        self.assertRaises(ValueError, w2n.word_to_num, '-')\n",
    "        self.assertRaises(ValueError, w2n.word_to_num, 'on')\n",
    "        self.assertRaises(ValueError, w2n.word_to_num, 'million million')\n",
    "        self.assertRaises(ValueError, w2n.word_to_num, 'three million million')\n",
    "        self.assertRaises(ValueError, w2n.word_to_num, 'million four million')\n",
    "        self.assertRaises(ValueError, w2n.word_to_num, 'thousand million')\n",
    "        self.assertRaises(ValueError, w2n.word_to_num, 'one billion point two million twenty three thousand and forty nine point two three six nine')\n",
    "        self.assertRaises(ValueError, w2n.word_to_num, 112)"
   ]
  },
  {
   "cell_type": "code",
   "execution_count": 9,
   "metadata": {},
   "outputs": [
    {
     "ename": "NameError",
     "evalue": "name 's2n' is not defined",
     "output_type": "error",
     "traceback": [
      "\u001b[0;31m---------------------------------------------------------------------------\u001b[0m",
      "\u001b[0;31mNameError\u001b[0m                                 Traceback (most recent call last)",
      "\u001b[0;32m<ipython-input-9-727eba280709>\u001b[0m in \u001b[0;36m<module>\u001b[0;34m\u001b[0m\n\u001b[0;32m----> 1\u001b[0;31m \u001b[0mn1\u001b[0m \u001b[0;34m=\u001b[0m \u001b[0ms2n\u001b[0m\u001b[0;34m.\u001b[0m\u001b[0mto_num\u001b[0m\u001b[0;34m(\u001b[0m\u001b[0ms1\u001b[0m\u001b[0;34m)\u001b[0m\u001b[0;34m\u001b[0m\u001b[0;34m\u001b[0m\u001b[0m\n\u001b[0m\u001b[1;32m      2\u001b[0m \u001b[0mn2\u001b[0m \u001b[0;34m=\u001b[0m \u001b[0ms2n\u001b[0m\u001b[0;34m.\u001b[0m\u001b[0mto_num\u001b[0m\u001b[0;34m(\u001b[0m\u001b[0ms2\u001b[0m\u001b[0;34m)\u001b[0m\u001b[0;34m\u001b[0m\u001b[0;34m\u001b[0m\u001b[0m\n\u001b[1;32m      3\u001b[0m \u001b[0mn3\u001b[0m \u001b[0;34m=\u001b[0m \u001b[0ms2n\u001b[0m\u001b[0;34m.\u001b[0m\u001b[0mto_num\u001b[0m\u001b[0;34m(\u001b[0m\u001b[0ms3\u001b[0m\u001b[0;34m)\u001b[0m\u001b[0;34m\u001b[0m\u001b[0;34m\u001b[0m\u001b[0m\n\u001b[1;32m      4\u001b[0m \u001b[0mn4\u001b[0m \u001b[0;34m=\u001b[0m \u001b[0ms2n\u001b[0m\u001b[0;34m.\u001b[0m\u001b[0mto_num\u001b[0m\u001b[0;34m(\u001b[0m\u001b[0ms4\u001b[0m\u001b[0;34m)\u001b[0m\u001b[0;34m\u001b[0m\u001b[0;34m\u001b[0m\u001b[0m\n\u001b[1;32m      5\u001b[0m \u001b[0mn5\u001b[0m \u001b[0;34m=\u001b[0m \u001b[0ms2n\u001b[0m\u001b[0;34m.\u001b[0m\u001b[0mto_num\u001b[0m\u001b[0;34m(\u001b[0m\u001b[0ms5\u001b[0m\u001b[0;34m)\u001b[0m\u001b[0;34m\u001b[0m\u001b[0;34m\u001b[0m\u001b[0m\n",
      "\u001b[0;31mNameError\u001b[0m: name 's2n' is not defined"
     ]
    }
   ],
   "source": [
    "n1 = s2n.to_num(s1)\n",
    "n2 = s2n.to_num(s2)\n",
    "n3 = s2n.to_num(s3)\n",
    "n4 = s2n.to_num(s4)\n",
    "n5 = s2n.to_num(s5)\n",
    "n6 = s2n.to_num(s6)\n",
    "n7 = s2n.to_num(s7)\n",
    "n8 = s2n.to_num(s8)\n",
    "n9 = s2n.to_num(s9)\n",
    "\n",
    "print(\"n1:\", n1, type(n1))\n",
    "print(\"n2:\", n2, type(n2))\n",
    "print(\"n3:\", n3, type(n3))\n",
    "print(\"n4:\", n4, type(n4))\n",
    "print(\"n5:\", n5, type(n5))\n",
    "print(\"n6:\", n6, type(n6))\n",
    "print(\"n7:\", n7, type(n7))\n",
    "print(\"n8:\", n8, type(n8))\n",
    "print(\"n9:\", n9, type(n9))\n",
    "\n",
    "# Incorrect examples\n",
    "# s2n.to_num(\"abc\") # It will throw a ValueError: Invalid numerical string!\n",
    "# s2n.to_num(list()) # It will throw a ValueError: Invalid input type!"
   ]
  },
  {
   "cell_type": "code",
   "execution_count": null,
   "metadata": {},
   "outputs": [],
   "source": []
  },
  {
   "cell_type": "code",
   "execution_count": null,
   "metadata": {},
   "outputs": [],
   "source": []
  },
  {
   "cell_type": "code",
   "execution_count": null,
   "metadata": {},
   "outputs": [],
   "source": []
  },
  {
   "cell_type": "code",
   "execution_count": null,
   "metadata": {},
   "outputs": [],
   "source": []
  }
 ],
 "metadata": {
  "kernelspec": {
   "display_name": "Python 3",
   "language": "python",
   "name": "python3"
  },
  "language_info": {
   "codemirror_mode": {
    "name": "ipython",
    "version": 3
   },
   "file_extension": ".py",
   "mimetype": "text/x-python",
   "name": "python",
   "nbconvert_exporter": "python",
   "pygments_lexer": "ipython3",
   "version": "3.7.3"
  }
 },
 "nbformat": 4,
 "nbformat_minor": 2
}

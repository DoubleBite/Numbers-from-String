{
 "cells": [
  {
   "cell_type": "code",
   "execution_count": 1,
   "metadata": {},
   "outputs": [],
   "source": [
    "import doctest\n",
    "import unittest\n",
    "import re\n",
    "from fractions import Fraction"
   ]
  },
  {
   "cell_type": "markdown",
   "metadata": {},
   "source": [
    "## 1. Get the numerical string tokens in a string."
   ]
  },
  {
   "cell_type": "code",
   "execution_count": 2,
   "metadata": {},
   "outputs": [],
   "source": [
    "from  nums_from_string import  get_numeric_string_tokens"
   ]
  },
  {
   "cell_type": "code",
   "execution_count": 3,
   "metadata": {},
   "outputs": [
    {
     "name": "stdout",
     "output_type": "stream",
     "text": [
      "Finding tests in NoName\n",
      "Trying:\n",
      "    string1 = \"U.S. goods and services trade with China totaled an estimated $710.4 billion in 2017. \"\n",
      "Expecting nothing\n",
      "ok\n",
      "Trying:\n",
      "    get_numeric_string_tokens(string1)\n",
      "Expecting:\n",
      "    ['710.4', '2017']\n",
      "ok\n",
      "Trying:\n",
      "    string2 = \"David spent .25 billion dollars buying a building and 600,000,000.5 dollars getting himself a new car.\"\n",
      "Expecting nothing\n",
      "ok\n",
      "Trying:\n",
      "    get_numeric_string_tokens(string2)\n",
      "Expecting:\n",
      "    ['.25', '600,000,000.5']\n",
      "ok\n",
      "Trying:\n",
      "    string3 = \"Find the product of 4 and -5?\"\n",
      "Expecting nothing\n",
      "ok\n",
      "Trying:\n",
      "    get_numeric_string_tokens(string3)\n",
      "Expecting:\n",
      "    ['4', '-5']\n",
      "ok\n",
      "Trying:\n",
      "    string4 = \"The flight number is Airbus A330-300\"\n",
      "Expecting nothing\n",
      "ok\n",
      "Trying:\n",
      "    get_numeric_string_tokens(string4, no_minus=True)\n",
      "Expecting:\n",
      "    ['330', '300']\n",
      "ok\n"
     ]
    }
   ],
   "source": [
    "doctest.run_docstring_examples(get_numeric_string_tokens, globals(), verbose=True)"
   ]
  },
  {
   "cell_type": "markdown",
   "metadata": {},
   "source": [
    "---\n",
    "---\n",
    "## 2. Convert numerical string to number"
   ]
  },
  {
   "cell_type": "code",
   "execution_count": 4,
   "metadata": {},
   "outputs": [],
   "source": [
    "from nums_from_string import to_num"
   ]
  },
  {
   "cell_type": "code",
   "execution_count": 5,
   "metadata": {},
   "outputs": [
    {
     "name": "stdout",
     "output_type": "stream",
     "text": [
      "Finding tests in NoName\n",
      "Trying:\n",
      "    s0 = \"255\"\n",
      "Expecting nothing\n",
      "ok\n",
      "Trying:\n",
      "    to_num(s0)\n",
      "Expecting:\n",
      "    255\n",
      "ok\n",
      "Trying:\n",
      "    s1 = \"-255,000.0\"\n",
      "Expecting nothing\n",
      "ok\n",
      "Trying:\n",
      "    to_num(s1)\n",
      "Expecting:\n",
      "    -255000.0\n",
      "ok\n",
      "Trying:\n",
      "    s2 = \"87/25\"\n",
      "Expecting nothing\n",
      "ok\n",
      "Trying:\n",
      "    to_num(s2)\n",
      "Expecting:\n",
      "    Fraction(87, 25)\n",
      "ok\n",
      "Trying:\n",
      "    s3 = \"a1b2\"\n",
      "Expecting nothing\n",
      "ok\n",
      "Trying:\n",
      "    to_num(s3)\n",
      "Expecting:\n",
      "    Traceback (most recent call last):\n",
      "        ...\n",
      "    ValueError: Invalid numerical string!\n",
      "ok\n"
     ]
    }
   ],
   "source": [
    "doctest.run_docstring_examples(to_num, globals(), verbose=True)"
   ]
  },
  {
   "cell_type": "markdown",
   "metadata": {},
   "source": [
    "---\n",
    "---\n",
    "## 3. Get numbers from string"
   ]
  },
  {
   "cell_type": "code",
   "execution_count": 6,
   "metadata": {},
   "outputs": [],
   "source": [
    "from nums_from_string import get_nums"
   ]
  },
  {
   "cell_type": "code",
   "execution_count": 7,
   "metadata": {},
   "outputs": [
    {
     "name": "stdout",
     "output_type": "stream",
     "text": [
      "Finding tests in NoName\n",
      "Trying:\n",
      "    string1 = \"U.S. goods and services trade with China totaled an estimated $710.4 billion in 2017. \"\n",
      "Expecting nothing\n",
      "ok\n",
      "Trying:\n",
      "    get_nums(string1)\n",
      "Expecting:\n",
      "    [710.4, 2017]\n",
      "ok\n",
      "Trying:\n",
      "    string2 = \"David spent .25 billion dollars buying a building and 600,000,000.5 dollars getting himself a new car.\"\n",
      "Expecting nothing\n",
      "ok\n",
      "Trying:\n",
      "    get_nums(string2)\n",
      "Expecting:\n",
      "    [0.25, 600000000.5]\n",
      "ok\n"
     ]
    }
   ],
   "source": [
    "doctest.run_docstring_examples(get_nums, globals(), verbose=True)"
   ]
  },
  {
   "cell_type": "markdown",
   "metadata": {},
   "source": [
    "---\n",
    "---\n",
    "## 4. Unittest"
   ]
  },
  {
   "cell_type": "code",
   "execution_count": 8,
   "metadata": {},
   "outputs": [],
   "source": [
    "class NumsFromStringTest(unittest.TestCase):\n",
    "\n",
    "    def test_to_num(self):\n",
    "        self.assertEqual(to_num(\"255\"), 255)\n",
    "        self.assertEqual(to_num(\"-255\"), -255)\n",
    "        self.assertEqual(to_num(\"255.0\"), 255.0)\n",
    "        self.assertEqual(to_num(\"-255.0\"), -255.0)\n",
    "        self.assertEqual(to_num(\"-255,123,000\"), -255123000)\n",
    "        self.assertEqual(to_num(\"-255,123,000.0\"), -255123000.0)\n",
    "        self.assertEqual(to_num(\"255/547\"), Fraction(255,547))\n",
    "        self.assertEqual(to_num(255), 255)\n",
    "        self.assertEqual(to_num(-255.0), -255.0)\n",
    "        self.assertEqual(type(to_num(\"255\")), int)\n",
    "        self.assertEqual(type(to_num(\"-255\")), int)\n",
    "        self.assertEqual(type(to_num(\"-255,123,000.0\")), float)\n",
    "        self.assertEqual(type(to_num(\"255/547\")), Fraction)\n",
    "        self.assertEqual(type(to_num(255)), int)\n",
    "        self.assertEqual(type(to_num(-255.0)), float)\n",
    "        self.assertRaises(ValueError, to_num, 'as12-')\n"
   ]
  },
  {
   "cell_type": "code",
   "execution_count": 9,
   "metadata": {},
   "outputs": [
    {
     "name": "stderr",
     "output_type": "stream",
     "text": [
      "test_to_num (__main__.NumsFromStringTest) ... ok\n",
      "\n",
      "----------------------------------------------------------------------\n",
      "Ran 1 test in 0.001s\n",
      "\n",
      "OK\n"
     ]
    },
    {
     "data": {
      "text/plain": [
       "<unittest.main.TestProgram at 0x7f0f385f3588>"
      ]
     },
     "execution_count": 9,
     "metadata": {},
     "output_type": "execute_result"
    }
   ],
   "source": [
    "unittest.main(argv=[''], verbosity=2, exit=False)"
   ]
  },
  {
   "cell_type": "code",
   "execution_count": null,
   "metadata": {},
   "outputs": [],
   "source": []
  },
  {
   "cell_type": "code",
   "execution_count": null,
   "metadata": {},
   "outputs": [],
   "source": []
  },
  {
   "cell_type": "code",
   "execution_count": null,
   "metadata": {},
   "outputs": [],
   "source": []
  }
 ],
 "metadata": {
  "kernelspec": {
   "display_name": "Python 3",
   "language": "python",
   "name": "python3"
  },
  "language_info": {
   "codemirror_mode": {
    "name": "ipython",
    "version": 3
   },
   "file_extension": ".py",
   "mimetype": "text/x-python",
   "name": "python",
   "nbconvert_exporter": "python",
   "pygments_lexer": "ipython3",
   "version": "3.7.3"
  }
 },
 "nbformat": 4,
 "nbformat_minor": 2
}
